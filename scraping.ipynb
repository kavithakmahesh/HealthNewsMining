{
 "cells": [
  {
   "cell_type": "code",
   "execution_count": 2,
   "id": "7adfb3a6-dd1e-4a61-88be-12a7dedaa4e3",
   "metadata": {},
   "outputs": [
    {
     "name": "stdout",
     "output_type": "stream",
     "text": [
      "✅ Combined and saved 3723 unique articles to 'indian_health_bias_combined_clean.csv'\n"
     ]
    }
   ],
   "source": [
    "import pandas as pd\n",
    "\n",
    "# Load all three CSVs\n",
    "df1 = pd.read_csv(\"indian_health_bias_new.csv\")\n",
    "df2 = pd.read_csv(\"indian_health_bias_new1.csv\")\n",
    "df3 = pd.read_csv(\"indian_health_bias_new2.csv\")\n",
    "\n",
    "# Concatenate them\n",
    "combined_df = pd.concat([df1, df2, df3], ignore_index=True)\n",
    "\n",
    "# Drop duplicates based on the article URL\n",
    "clean_df = combined_df.drop_duplicates(subset=\"url\")\n",
    "\n",
    "# Save the cleaned data\n",
    "clean_df.to_csv(\"indian_health_bias_combined_clean.csv\", index=False)\n",
    "\n",
    "print(f\"✅ Combined and saved {len(clean_df)} unique articles to 'indian_health_bias_combined_clean.csv'\")\n"
   ]
  },
  {
   "cell_type": "code",
   "execution_count": 4,
   "id": "fc130edc-2326-4c9e-8feb-83350396a7fb",
   "metadata": {},
   "outputs": [
    {
     "name": "stdout",
     "output_type": "stream",
     "text": [
      "✅ Combined and saved 3723 unique articles to 'indian_health_bias_combined_clean.xlsx'\n"
     ]
    }
   ],
   "source": [
    "import pandas as pd\n",
    "\n",
    "# Load all three CSVs\n",
    "df1 = pd.read_csv(\"indian_health_bias_new.csv\")\n",
    "df2 = pd.read_csv(\"indian_health_bias_new1.csv\")\n",
    "df3 = pd.read_csv(\"indian_health_bias_new2.csv\")\n",
    "\n",
    "# Concatenate them\n",
    "combined_df = pd.concat([df1, df2, df3], ignore_index=True)\n",
    "\n",
    "# Drop duplicates based on the article URL\n",
    "clean_df = combined_df.drop_duplicates(subset=\"url\")\n",
    "\n",
    "# Save to Excel\n",
    "clean_df.to_excel(\"indian_health_bias_combined_clean.xlsx\", index=False)\n",
    "\n",
    "print(f\"✅ Combined and saved {len(clean_df)} unique articles to 'indian_health_bias_combined_clean.xlsx'\")\n"
   ]
  }
 ],
 "metadata": {
  "kernelspec": {
   "display_name": "Python 3 (ipykernel)",
   "language": "python",
   "name": "python3"
  },
  "language_info": {
   "codemirror_mode": {
    "name": "ipython",
    "version": 3
   },
   "file_extension": ".py",
   "mimetype": "text/x-python",
   "name": "python",
   "nbconvert_exporter": "python",
   "pygments_lexer": "ipython3",
   "version": "3.12.4"
  }
 },
 "nbformat": 4,
 "nbformat_minor": 5
}
