{
 "cells": [
  {
   "cell_type": "code",
   "execution_count": 9,
   "id": "9d0db3ec",
   "metadata": {},
   "outputs": [
    {
     "name": "stderr",
     "output_type": "stream",
     "text": [
      "[nltk_data] Downloading package stopwords to\n",
      "[nltk_data]     C:\\Users\\Admin\\AppData\\Roaming\\nltk_data...\n",
      "[nltk_data]   Package stopwords is already up-to-date!\n"
     ]
    }
   ],
   "source": [
    "import pandas as pd\n",
    "import re\n",
    "import string\n",
    "import nltk\n",
    "import spacy\n",
    "from nltk.corpus import stopwords\n",
    "from textblob import TextBlob\n",
    "from tqdm import tqdm\n",
    "\n",
    "# Setup\n",
    "nltk.download('stopwords')\n",
    "nlp = spacy.load(\"en_core_web_sm\")\n",
    "stop_words = set(stopwords.words('english'))\n",
    "\n",
    "# Load your scraped dataset\n",
    "df = pd.read_excel(\"indian_health_bias_combined_clean.xlsx\")"
   ]
  },
  {
   "cell_type": "code",
   "execution_count": 10,
   "id": "2fc53ac2",
   "metadata": {},
   "outputs": [],
   "source": [
    "# Drop duplicates and nulls\n",
    "df.drop_duplicates(subset='text', inplace=True)\n",
    "df.dropna(subset=['text'], inplace=True)\n",
    "\n",
    "# Function: Clean Text\n",
    "def clean_text(text):\n",
    "    text = str(text).lower()\n",
    "    text = re.sub(r'<[^>]+>', '', text)  # remove HTML\n",
    "    text = re.sub(r'\\[[^\\]]*\\]', '', text)  # remove brackets\n",
    "    text = re.sub(r'https?://\\S+', '', text)  # remove URLs\n",
    "    text = re.sub(r'[^a-z\\s]', '', text)  # remove non-letters\n",
    "    text = ' '.join([word for word in text.split() if word not in stop_words])\n",
    "    return text\n",
    "\n",
    "# Apply cleaning\n",
    "df[\"clean_text\"] = df[\"text\"].apply(clean_text)"
   ]
  },
  {
   "cell_type": "code",
   "execution_count": 11,
   "id": "798361c3",
   "metadata": {},
   "outputs": [
    {
     "name": "stderr",
     "output_type": "stream",
     "text": [
      "100%|██████████| 3610/3610 [14:30<00:00,  4.15it/s]\n"
     ]
    }
   ],
   "source": [
    "# Add basic NLP features\n",
    "df[\"word_count\"] = df[\"clean_text\"].apply(lambda x: len(str(x).split()))\n",
    "df[\"char_count\"] = df[\"clean_text\"].apply(lambda x: len(str(x)))\n",
    "df[\"sentiment\"] = df[\"clean_text\"].apply(lambda x: TextBlob(x).sentiment.polarity)\n",
    "\n",
    "# Named Entities (useful for bias tracking)\n",
    "def extract_entities(text):\n",
    "    doc = nlp(text)\n",
    "    return [ent.label_ + \": \" + ent.text for ent in doc.ents]\n",
    "\n",
    "tqdm.pandas()\n",
    "df[\"entities\"] = df[\"text\"].progress_apply(extract_entities)"
   ]
  },
  {
   "cell_type": "code",
   "execution_count": 12,
   "id": "28c82412",
   "metadata": {},
   "outputs": [
    {
     "name": "stdout",
     "output_type": "stream",
     "text": [
      "✅ Preprocessing complete. Saved to 'preprocessed_health_news_bias.csv'\n"
     ]
    }
   ],
   "source": [
    "# Save the processed data\n",
    "df.to_csv(\"preprocessed_health_news_bias.csv\", index=False)\n",
    "print(\"✅ Preprocessing complete. Saved to 'preprocessed_health_news_bias.csv'\")\n"
   ]
  }
 ],
 "metadata": {
  "kernelspec": {
   "display_name": "Python 3",
   "language": "python",
   "name": "python3"
  },
  "language_info": {
   "codemirror_mode": {
    "name": "ipython",
    "version": 3
   },
   "file_extension": ".py",
   "mimetype": "text/x-python",
   "name": "python",
   "nbconvert_exporter": "python",
   "pygments_lexer": "ipython3",
   "version": "3.10.0"
  }
 },
 "nbformat": 4,
 "nbformat_minor": 5
}
